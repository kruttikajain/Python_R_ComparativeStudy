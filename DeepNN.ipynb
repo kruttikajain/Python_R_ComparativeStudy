{
 "cells": [
  {
   "cell_type": "code",
   "execution_count": 81,
   "metadata": {},
   "outputs": [],
   "source": [
    "import os\n",
    "import sys\n",
    "from logging import handlers\n",
    "from pathlib import Path\n",
    "import logging\n",
    "import time\n",
    "import numpy as np\n",
    "import pandas as pd \n",
    "import math\n",
    "import random "
   ]
  },
  {
   "cell_type": "code",
   "execution_count": 82,
   "metadata": {},
   "outputs": [],
   "source": [
    "from sklearn.model_selection import train_test_split\n",
    "from sklearn import metrics\n",
    "from sklearn.model_selection import KFold\n",
    "from sklearn.model_selection import StratifiedShuffleSplit\n",
    "\n",
    "import tensorflow as tf\n",
    "from keras.preprocessing.text import Tokenizer\n",
    "from keras.preprocessing.sequence import pad_sequences\n",
    "from keras.layers import Dense, Input, LSTM, Embedding, Dropout, Activation, CuDNNGRU, CuDNNLSTM, Conv1D\n",
    "from keras.layers import Bidirectional, GlobalMaxPool1D\n",
    "from keras.models import Model\n",
    "from keras import initializers, regularizers, constraints, optimizers, layers\n",
    "\n",
    "from os import path\n",
    "\n",
    "#%matplotlib inline \n",
    "import matplotlib.pyplot as plt"
   ]
  },
  {
   "cell_type": "code",
   "execution_count": 83,
   "metadata": {},
   "outputs": [],
   "source": [
    "test = pd.read_csv('/Users/kruttikajain/Documents/test.csv')\n",
    "train = pd.read_csv('/Users/kruttikajain/Documents/train.csv')"
   ]
  },
  {
   "cell_type": "code",
   "execution_count": 84,
   "metadata": {},
   "outputs": [],
   "source": [
    "#train.info()"
   ]
  },
  {
   "cell_type": "code",
   "execution_count": 85,
   "metadata": {},
   "outputs": [],
   "source": [
    "#test.info()"
   ]
  },
  {
   "cell_type": "code",
   "execution_count": 86,
   "metadata": {},
   "outputs": [
    {
     "name": "stderr",
     "output_type": "stream",
     "text": [
      "/Library/Frameworks/Python.framework/Versions/3.7/lib/python3.7/site-packages/ipykernel_launcher.py:2: FutureWarning: Sorting because non-concatenation axis is not aligned. A future version\n",
      "of pandas will change to not sort by default.\n",
      "\n",
      "To accept the future behavior, pass 'sort=False'.\n",
      "\n",
      "To retain the current behavior and silence the warning, pass 'sort=True'.\n",
      "\n",
      "  \n"
     ]
    }
   ],
   "source": [
    "df_combine = [train,test]\n",
    "total_data = pd.concat(df_combine,ignore_index=True)"
   ]
  },
  {
   "cell_type": "code",
   "execution_count": 87,
   "metadata": {},
   "outputs": [
    {
     "data": {
      "text/html": [
       "<div>\n",
       "<style scoped>\n",
       "    .dataframe tbody tr th:only-of-type {\n",
       "        vertical-align: middle;\n",
       "    }\n",
       "\n",
       "    .dataframe tbody tr th {\n",
       "        vertical-align: top;\n",
       "    }\n",
       "\n",
       "    .dataframe thead th {\n",
       "        text-align: right;\n",
       "    }\n",
       "</style>\n",
       "<table border=\"1\" class=\"dataframe\">\n",
       "  <thead>\n",
       "    <tr style=\"text-align: right;\">\n",
       "      <th></th>\n",
       "      <th>Age</th>\n",
       "      <th>Cabin</th>\n",
       "      <th>Embarked</th>\n",
       "      <th>Fare</th>\n",
       "      <th>Name</th>\n",
       "      <th>Parch</th>\n",
       "      <th>PassengerId</th>\n",
       "      <th>Pclass</th>\n",
       "      <th>Sex</th>\n",
       "      <th>SibSp</th>\n",
       "      <th>Survived</th>\n",
       "      <th>Ticket</th>\n",
       "    </tr>\n",
       "  </thead>\n",
       "  <tbody>\n",
       "    <tr>\n",
       "      <th>0</th>\n",
       "      <td>22.0</td>\n",
       "      <td>NaN</td>\n",
       "      <td>S</td>\n",
       "      <td>7.2500</td>\n",
       "      <td>Braund, Mr. Owen Harris</td>\n",
       "      <td>0</td>\n",
       "      <td>1</td>\n",
       "      <td>3</td>\n",
       "      <td>male</td>\n",
       "      <td>1</td>\n",
       "      <td>0.0</td>\n",
       "      <td>A/5 21171</td>\n",
       "    </tr>\n",
       "    <tr>\n",
       "      <th>1</th>\n",
       "      <td>38.0</td>\n",
       "      <td>C85</td>\n",
       "      <td>C</td>\n",
       "      <td>71.2833</td>\n",
       "      <td>Cumings, Mrs. John Bradley (Florence Briggs Th...</td>\n",
       "      <td>0</td>\n",
       "      <td>2</td>\n",
       "      <td>1</td>\n",
       "      <td>female</td>\n",
       "      <td>1</td>\n",
       "      <td>1.0</td>\n",
       "      <td>PC 17599</td>\n",
       "    </tr>\n",
       "    <tr>\n",
       "      <th>2</th>\n",
       "      <td>26.0</td>\n",
       "      <td>NaN</td>\n",
       "      <td>S</td>\n",
       "      <td>7.9250</td>\n",
       "      <td>Heikkinen, Miss. Laina</td>\n",
       "      <td>0</td>\n",
       "      <td>3</td>\n",
       "      <td>3</td>\n",
       "      <td>female</td>\n",
       "      <td>0</td>\n",
       "      <td>1.0</td>\n",
       "      <td>STON/O2. 3101282</td>\n",
       "    </tr>\n",
       "    <tr>\n",
       "      <th>3</th>\n",
       "      <td>35.0</td>\n",
       "      <td>C123</td>\n",
       "      <td>S</td>\n",
       "      <td>53.1000</td>\n",
       "      <td>Futrelle, Mrs. Jacques Heath (Lily May Peel)</td>\n",
       "      <td>0</td>\n",
       "      <td>4</td>\n",
       "      <td>1</td>\n",
       "      <td>female</td>\n",
       "      <td>1</td>\n",
       "      <td>1.0</td>\n",
       "      <td>113803</td>\n",
       "    </tr>\n",
       "    <tr>\n",
       "      <th>4</th>\n",
       "      <td>35.0</td>\n",
       "      <td>NaN</td>\n",
       "      <td>S</td>\n",
       "      <td>8.0500</td>\n",
       "      <td>Allen, Mr. William Henry</td>\n",
       "      <td>0</td>\n",
       "      <td>5</td>\n",
       "      <td>3</td>\n",
       "      <td>male</td>\n",
       "      <td>0</td>\n",
       "      <td>0.0</td>\n",
       "      <td>373450</td>\n",
       "    </tr>\n",
       "  </tbody>\n",
       "</table>\n",
       "</div>"
      ],
      "text/plain": [
       "    Age Cabin Embarked     Fare  \\\n",
       "0  22.0   NaN        S   7.2500   \n",
       "1  38.0   C85        C  71.2833   \n",
       "2  26.0   NaN        S   7.9250   \n",
       "3  35.0  C123        S  53.1000   \n",
       "4  35.0   NaN        S   8.0500   \n",
       "\n",
       "                                                Name  Parch  PassengerId  \\\n",
       "0                            Braund, Mr. Owen Harris      0            1   \n",
       "1  Cumings, Mrs. John Bradley (Florence Briggs Th...      0            2   \n",
       "2                             Heikkinen, Miss. Laina      0            3   \n",
       "3       Futrelle, Mrs. Jacques Heath (Lily May Peel)      0            4   \n",
       "4                           Allen, Mr. William Henry      0            5   \n",
       "\n",
       "   Pclass     Sex  SibSp  Survived            Ticket  \n",
       "0       3    male      1       0.0         A/5 21171  \n",
       "1       1  female      1       1.0          PC 17599  \n",
       "2       3  female      0       1.0  STON/O2. 3101282  \n",
       "3       1  female      1       1.0            113803  \n",
       "4       3    male      0       0.0            373450  "
      ]
     },
     "execution_count": 87,
     "metadata": {},
     "output_type": "execute_result"
    }
   ],
   "source": [
    "total_data.head()"
   ]
  },
  {
   "cell_type": "code",
   "execution_count": 88,
   "metadata": {},
   "outputs": [],
   "source": [
    "total_data=train.drop(columns=['PassengerId', 'Name','Ticket','Cabin'])\n"
   ]
  },
  {
   "cell_type": "code",
   "execution_count": 89,
   "metadata": {},
   "outputs": [
    {
     "data": {
      "text/html": [
       "<div>\n",
       "<style scoped>\n",
       "    .dataframe tbody tr th:only-of-type {\n",
       "        vertical-align: middle;\n",
       "    }\n",
       "\n",
       "    .dataframe tbody tr th {\n",
       "        vertical-align: top;\n",
       "    }\n",
       "\n",
       "    .dataframe thead th {\n",
       "        text-align: right;\n",
       "    }\n",
       "</style>\n",
       "<table border=\"1\" class=\"dataframe\">\n",
       "  <thead>\n",
       "    <tr style=\"text-align: right;\">\n",
       "      <th></th>\n",
       "      <th>Survived</th>\n",
       "      <th>Pclass</th>\n",
       "      <th>Sex</th>\n",
       "      <th>Age</th>\n",
       "      <th>SibSp</th>\n",
       "      <th>Parch</th>\n",
       "      <th>Fare</th>\n",
       "      <th>Embarked</th>\n",
       "    </tr>\n",
       "  </thead>\n",
       "  <tbody>\n",
       "    <tr>\n",
       "      <th>61</th>\n",
       "      <td>1</td>\n",
       "      <td>1</td>\n",
       "      <td>female</td>\n",
       "      <td>38.0</td>\n",
       "      <td>0</td>\n",
       "      <td>0</td>\n",
       "      <td>80.0</td>\n",
       "      <td>NaN</td>\n",
       "    </tr>\n",
       "    <tr>\n",
       "      <th>829</th>\n",
       "      <td>1</td>\n",
       "      <td>1</td>\n",
       "      <td>female</td>\n",
       "      <td>62.0</td>\n",
       "      <td>0</td>\n",
       "      <td>0</td>\n",
       "      <td>80.0</td>\n",
       "      <td>NaN</td>\n",
       "    </tr>\n",
       "  </tbody>\n",
       "</table>\n",
       "</div>"
      ],
      "text/plain": [
       "     Survived  Pclass     Sex   Age  SibSp  Parch  Fare Embarked\n",
       "61          1       1  female  38.0      0      0  80.0      NaN\n",
       "829         1       1  female  62.0      0      0  80.0      NaN"
      ]
     },
     "execution_count": 89,
     "metadata": {},
     "output_type": "execute_result"
    }
   ],
   "source": [
    "total_data.loc[pd.isnull(total_data['Embarked'])]"
   ]
  },
  {
   "cell_type": "code",
   "execution_count": 90,
   "metadata": {},
   "outputs": [],
   "source": [
    "total_data['Fare'].fillna(total_data['Fare'].mean(), inplace = True)"
   ]
  },
  {
   "cell_type": "code",
   "execution_count": 91,
   "metadata": {},
   "outputs": [],
   "source": [
    "total_data['Age'].fillna(total_data['Age'].mean(), inplace = True)"
   ]
  },
  {
   "cell_type": "code",
   "execution_count": 92,
   "metadata": {},
   "outputs": [],
   "source": [
    "total_data= total_data[total_data['Embarked'].notna()]"
   ]
  },
  {
   "cell_type": "code",
   "execution_count": 93,
   "metadata": {},
   "outputs": [
    {
     "data": {
      "text/plain": [
       "Index(['Survived', 'Pclass', 'Sex', 'Age', 'SibSp', 'Parch', 'Fare',\n",
       "       'Embarked'],\n",
       "      dtype='object')"
      ]
     },
     "execution_count": 93,
     "metadata": {},
     "output_type": "execute_result"
    }
   ],
   "source": [
    "total_data.columns"
   ]
  },
  {
   "cell_type": "code",
   "execution_count": 94,
   "metadata": {},
   "outputs": [],
   "source": [
    "categorical=['Pclass','Sex','SibSp','Parch','Embarked']"
   ]
  },
  {
   "cell_type": "code",
   "execution_count": 95,
   "metadata": {},
   "outputs": [],
   "source": [
    "from sklearn.preprocessing import LabelEncoder\n",
    "def CategoricalToNum(catVal):\n",
    "    le = LabelEncoder()\n",
    "    le.fit(catVal)\n",
    "    catVal = le.transform(catVal)\n",
    "    return catVal"
   ]
  },
  {
   "cell_type": "code",
   "execution_count": 96,
   "metadata": {},
   "outputs": [],
   "source": [
    "for i in categorical:\n",
    "    total_data[i] = CategoricalToNum(total_data[i])"
   ]
  },
  {
   "cell_type": "code",
   "execution_count": 102,
   "metadata": {},
   "outputs": [],
   "source": [
    "A_cols = ['Pclass', 'Sex', 'Age', 'SibSp', 'Parch', 'Fare', 'Embarked']"
   ]
  },
  {
   "cell_type": "code",
   "execution_count": 103,
   "metadata": {},
   "outputs": [],
   "source": [
    "from sklearn.preprocessing import MinMaxScaler\n",
    "scaler = MinMaxScaler()\n",
    "scaler.fit(total_data[Xcols])\n",
    "X = scaler.transform(total_data[A_cols])"
   ]
  },
  {
   "cell_type": "code",
   "execution_count": 65,
   "metadata": {},
   "outputs": [
    {
     "data": {
      "text/plain": [
       "889"
      ]
     },
     "execution_count": 65,
     "metadata": {},
     "output_type": "execute_result"
    }
   ],
   "source": [
    "len(y_val)"
   ]
  },
  {
   "cell_type": "code",
   "execution_count": 66,
   "metadata": {},
   "outputs": [
    {
     "data": {
      "text/plain": [
       "889"
      ]
     },
     "execution_count": 66,
     "metadata": {},
     "output_type": "execute_result"
    }
   ],
   "source": [
    "len(total_data)"
   ]
  },
  {
   "cell_type": "code",
   "execution_count": 104,
   "metadata": {},
   "outputs": [],
   "source": [
    "new_ytrain=total_data[0:891]['Survived'].values\n",
    "#print(new_ytrain)"
   ]
  },
  {
   "cell_type": "code",
   "execution_count": 105,
   "metadata": {},
   "outputs": [],
   "source": [
    "new_xtrain=total_data[0:891].drop(['Survived'], axis=1).values\n",
    "#new_xtrain.shape"
   ]
  },
  {
   "cell_type": "code",
   "execution_count": 106,
   "metadata": {},
   "outputs": [
    {
     "name": "stdout",
     "output_type": "stream",
     "text": [
      "Model: \"sequential_4\"\n",
      "_________________________________________________________________\n",
      "Layer (type)                 Output Shape              Param #   \n",
      "=================================================================\n",
      "dense_7 (Dense)              (None, 24)                192       \n",
      "_________________________________________________________________\n",
      "dense_8 (Dense)              (None, 1)                 25        \n",
      "=================================================================\n",
      "Total params: 217\n",
      "Trainable params: 217\n",
      "Non-trainable params: 0\n",
      "_________________________________________________________________\n"
     ]
    }
   ],
   "source": [
    "\n",
    "from keras import layers\n",
    "from keras import models\n",
    "\n",
    "model2 = models.Sequential()\n",
    "model2.add(layers.Dense(24, activation='relu', input_dim=7))\n",
    "model2.add(layers.Dense(1, activation='sigmoid'))\n",
    "model2.summary()"
   ]
  },
  {
   "cell_type": "code",
   "execution_count": 107,
   "metadata": {},
   "outputs": [],
   "source": [
    "model2.compile(loss='binary_crossentropy', optimizer='RMSprop', metrics=['accuracy'])"
   ]
  },
  {
   "cell_type": "code",
   "execution_count": 109,
   "metadata": {},
   "outputs": [
    {
     "name": "stdout",
     "output_type": "stream",
     "text": [
      "Train on 622 samples, validate on 267 samples\n",
      "Epoch 1/50\n",
      "622/622 [==============================] - 0s 186us/step - loss: 0.5304 - accuracy: 0.7476 - val_loss: 0.5097 - val_accuracy: 0.7341\n",
      "Epoch 2/50\n",
      "622/622 [==============================] - 0s 206us/step - loss: 0.5179 - accuracy: 0.7637 - val_loss: 0.4519 - val_accuracy: 0.7753\n",
      "Epoch 3/50\n",
      "622/622 [==============================] - 0s 232us/step - loss: 0.5225 - accuracy: 0.7621 - val_loss: 0.5813 - val_accuracy: 0.7079\n",
      "Epoch 4/50\n",
      "622/622 [==============================] - 0s 197us/step - loss: 0.5138 - accuracy: 0.7605 - val_loss: 0.4601 - val_accuracy: 0.8015\n",
      "Epoch 5/50\n",
      "622/622 [==============================] - 0s 181us/step - loss: 0.5089 - accuracy: 0.7605 - val_loss: 0.4590 - val_accuracy: 0.8015\n",
      "Epoch 6/50\n",
      "622/622 [==============================] - 0s 185us/step - loss: 0.5072 - accuracy: 0.7685 - val_loss: 0.4637 - val_accuracy: 0.7828\n",
      "Epoch 7/50\n",
      "622/622 [==============================] - 0s 180us/step - loss: 0.5130 - accuracy: 0.7524 - val_loss: 0.4648 - val_accuracy: 0.7865\n",
      "Epoch 8/50\n",
      "622/622 [==============================] - 0s 185us/step - loss: 0.5135 - accuracy: 0.7637 - val_loss: 0.4501 - val_accuracy: 0.7940\n",
      "Epoch 9/50\n",
      "622/622 [==============================] - 0s 217us/step - loss: 0.5071 - accuracy: 0.7605 - val_loss: 0.5132 - val_accuracy: 0.7828\n",
      "Epoch 10/50\n",
      "622/622 [==============================] - 0s 230us/step - loss: 0.5005 - accuracy: 0.7540 - val_loss: 0.5508 - val_accuracy: 0.7678\n",
      "Epoch 11/50\n",
      "622/622 [==============================] - 0s 260us/step - loss: 0.4918 - accuracy: 0.7749 - val_loss: 0.5257 - val_accuracy: 0.7715\n",
      "Epoch 12/50\n",
      "622/622 [==============================] - 0s 188us/step - loss: 0.4940 - accuracy: 0.7846 - val_loss: 0.4473 - val_accuracy: 0.7978\n",
      "Epoch 13/50\n",
      "622/622 [==============================] - 0s 182us/step - loss: 0.4982 - accuracy: 0.7621 - val_loss: 0.4420 - val_accuracy: 0.7903\n",
      "Epoch 14/50\n",
      "622/622 [==============================] - 0s 183us/step - loss: 0.4925 - accuracy: 0.7717 - val_loss: 0.4772 - val_accuracy: 0.7828\n",
      "Epoch 15/50\n",
      "622/622 [==============================] - 0s 205us/step - loss: 0.4948 - accuracy: 0.7637 - val_loss: 0.4378 - val_accuracy: 0.7903\n",
      "Epoch 16/50\n",
      "622/622 [==============================] - 0s 229us/step - loss: 0.4848 - accuracy: 0.7781 - val_loss: 0.4512 - val_accuracy: 0.7903\n",
      "Epoch 17/50\n",
      "622/622 [==============================] - 0s 196us/step - loss: 0.4870 - accuracy: 0.7749 - val_loss: 0.4305 - val_accuracy: 0.7978\n",
      "Epoch 18/50\n",
      "622/622 [==============================] - 0s 187us/step - loss: 0.4905 - accuracy: 0.7685 - val_loss: 0.5091 - val_accuracy: 0.7790\n",
      "Epoch 19/50\n",
      "622/622 [==============================] - 0s 227us/step - loss: 0.4954 - accuracy: 0.7765 - val_loss: 0.4827 - val_accuracy: 0.7790\n",
      "Epoch 20/50\n",
      "622/622 [==============================] - 0s 190us/step - loss: 0.4924 - accuracy: 0.7749 - val_loss: 0.5566 - val_accuracy: 0.7678\n",
      "Epoch 21/50\n",
      "622/622 [==============================] - 0s 188us/step - loss: 0.4812 - accuracy: 0.7974 - val_loss: 0.4492 - val_accuracy: 0.8015\n",
      "Epoch 22/50\n",
      "622/622 [==============================] - 0s 223us/step - loss: 0.4929 - accuracy: 0.7701 - val_loss: 0.4438 - val_accuracy: 0.7978\n",
      "Epoch 23/50\n",
      "622/622 [==============================] - 0s 212us/step - loss: 0.4794 - accuracy: 0.7669 - val_loss: 0.4730 - val_accuracy: 0.7790\n",
      "Epoch 24/50\n",
      "622/622 [==============================] - 0s 272us/step - loss: 0.4930 - accuracy: 0.7814 - val_loss: 0.5242 - val_accuracy: 0.7790\n",
      "Epoch 25/50\n",
      "622/622 [==============================] - 0s 220us/step - loss: 0.4830 - accuracy: 0.7862 - val_loss: 0.4641 - val_accuracy: 0.7940\n",
      "Epoch 26/50\n",
      "622/622 [==============================] - 0s 276us/step - loss: 0.4894 - accuracy: 0.7733 - val_loss: 0.4284 - val_accuracy: 0.8052\n",
      "Epoch 27/50\n",
      "622/622 [==============================] - 0s 235us/step - loss: 0.4763 - accuracy: 0.7878 - val_loss: 0.4163 - val_accuracy: 0.7978\n",
      "Epoch 28/50\n",
      "622/622 [==============================] - 0s 255us/step - loss: 0.4821 - accuracy: 0.7765 - val_loss: 0.5128 - val_accuracy: 0.7828\n",
      "Epoch 29/50\n",
      "622/622 [==============================] - 0s 243us/step - loss: 0.4925 - accuracy: 0.7701 - val_loss: 0.5016 - val_accuracy: 0.8015\n",
      "Epoch 30/50\n",
      "622/622 [==============================] - 0s 189us/step - loss: 0.4738 - accuracy: 0.7830 - val_loss: 0.4259 - val_accuracy: 0.7940\n",
      "Epoch 31/50\n",
      "622/622 [==============================] - 0s 186us/step - loss: 0.4790 - accuracy: 0.7765 - val_loss: 0.4227 - val_accuracy: 0.7940\n",
      "Epoch 32/50\n",
      "622/622 [==============================] - 0s 230us/step - loss: 0.4779 - accuracy: 0.7862 - val_loss: 0.4251 - val_accuracy: 0.7940\n",
      "Epoch 33/50\n",
      "622/622 [==============================] - 0s 262us/step - loss: 0.4772 - accuracy: 0.7733 - val_loss: 0.4273 - val_accuracy: 0.7903\n",
      "Epoch 34/50\n",
      "622/622 [==============================] - 0s 199us/step - loss: 0.4790 - accuracy: 0.7814 - val_loss: 0.4566 - val_accuracy: 0.7940\n",
      "Epoch 35/50\n",
      "622/622 [==============================] - 0s 190us/step - loss: 0.4801 - accuracy: 0.7830 - val_loss: 0.4682 - val_accuracy: 0.7940\n",
      "Epoch 36/50\n",
      "622/622 [==============================] - 0s 232us/step - loss: 0.4811 - accuracy: 0.7749 - val_loss: 0.4267 - val_accuracy: 0.7865\n",
      "Epoch 37/50\n",
      "622/622 [==============================] - 0s 255us/step - loss: 0.4754 - accuracy: 0.7733 - val_loss: 0.4753 - val_accuracy: 0.7865\n",
      "Epoch 38/50\n",
      "622/622 [==============================] - 0s 199us/step - loss: 0.4720 - accuracy: 0.7862 - val_loss: 0.4885 - val_accuracy: 0.7903\n",
      "Epoch 39/50\n",
      "622/622 [==============================] - 0s 177us/step - loss: 0.4792 - accuracy: 0.7749 - val_loss: 0.4468 - val_accuracy: 0.8127\n",
      "Epoch 40/50\n",
      "622/622 [==============================] - 0s 274us/step - loss: 0.4744 - accuracy: 0.7830 - val_loss: 0.4232 - val_accuracy: 0.7828\n",
      "Epoch 41/50\n",
      "622/622 [==============================] - 0s 235us/step - loss: 0.4841 - accuracy: 0.7685 - val_loss: 0.4069 - val_accuracy: 0.7940\n",
      "Epoch 42/50\n",
      "622/622 [==============================] - 0s 225us/step - loss: 0.4706 - accuracy: 0.7814 - val_loss: 0.5966 - val_accuracy: 0.7865\n",
      "Epoch 43/50\n",
      "622/622 [==============================] - 0s 189us/step - loss: 0.4771 - accuracy: 0.7846 - val_loss: 0.4612 - val_accuracy: 0.7828\n",
      "Epoch 44/50\n",
      "622/622 [==============================] - 0s 240us/step - loss: 0.4747 - accuracy: 0.7749 - val_loss: 0.4513 - val_accuracy: 0.7903\n",
      "Epoch 45/50\n",
      "622/622 [==============================] - 0s 215us/step - loss: 0.4770 - accuracy: 0.7781 - val_loss: 0.4391 - val_accuracy: 0.7828\n",
      "Epoch 46/50\n",
      "622/622 [==============================] - 0s 229us/step - loss: 0.4730 - accuracy: 0.7765 - val_loss: 0.4677 - val_accuracy: 0.7828\n",
      "Epoch 47/50\n",
      "622/622 [==============================] - 0s 297us/step - loss: 0.4672 - accuracy: 0.7894 - val_loss: 0.4741 - val_accuracy: 0.8127\n",
      "Epoch 48/50\n",
      "622/622 [==============================] - 0s 257us/step - loss: 0.4784 - accuracy: 0.7910 - val_loss: 0.4102 - val_accuracy: 0.7828\n",
      "Epoch 49/50\n",
      "622/622 [==============================] - 0s 198us/step - loss: 0.4718 - accuracy: 0.7846 - val_loss: 0.4153 - val_accuracy: 0.7790\n",
      "Epoch 50/50\n",
      "622/622 [==============================] - 0s 270us/step - loss: 0.4752 - accuracy: 0.7814 - val_loss: 0.4216 - val_accuracy: 0.7828\n"
     ]
    },
    {
     "data": {
      "text/plain": [
       "6.929561138153076"
      ]
     },
     "execution_count": 109,
     "metadata": {},
     "output_type": "execute_result"
    }
   ],
   "source": [
    "start_time = time.time()\n",
    "history2 = model2.fit(new_xtrain, new_ytrain, validation_split=0.3, epochs=50, batch_size=10)\n",
    "time.time() - start_time"
   ]
  },
  {
   "cell_type": "markdown",
   "metadata": {},
   "source": [
    "#Python Training time \n",
    "200: 28.765006065368652\n",
    "100: 12.841667175292969\n",
    "90: 11.866291046142578\n",
    "80: 10.412339925765991\n",
    "70: 8.76948094367981\n",
    "60: 7.626959323883057\n",
    "50: 6.44500207901001\n",
    "40: 5.283983945846558\n",
    "30: 4.256049871444702\n",
    "20: 2.5748798847198486\n",
    "10: 1.2444090843200684\n",
    "\n",
    "\n"
   ]
  },
  {
   "cell_type": "markdown",
   "metadata": {},
   "source": [
    "#R Training time\n",
    "100:  2.344   3.222  32.625 \n",
    "90:  19.498   2.014  26.688 \n",
    "80: 17.334   1.904  24.222 \n",
    "70: 15.788   1.963  22.266 \n",
    "60: 13.076   1.529  18.204\n",
    "50: 10.680   1.081  14.761 \n",
    "40: 9.264   0.888  12.933 \n",
    "30:  6.492   0.724   9.263 \n",
    "20: 4.357   0.436   6.284 \n",
    "10: 2.245   0.224   3.392"
   ]
  },
  {
   "cell_type": "code",
   "execution_count": 72,
   "metadata": {},
   "outputs": [],
   "source": [
    "Py_times=[1.244,2.574,4.256, 5.283,6.445, 7.626, 8.769, 10.412, 11.866, 12.841]\n",
    "R_times=[3.392,6.284, 9.263, 12.933, 14.761,18.204, 22.266, 24.222, 26.688, 32.625 ]"
   ]
  },
  {
   "cell_type": "code",
   "execution_count": 73,
   "metadata": {},
   "outputs": [],
   "source": [
    "epochs_=[10,20,30,40,50,60,70,80,90,100]"
   ]
  },
  {
   "cell_type": "code",
   "execution_count": 79,
   "metadata": {},
   "outputs": [
    {
     "data": {
      "image/png": "[encoded data removed]",
      "text/plain": [
       "<Figure size 576x396 with 1 Axes>"
      ]
     },
     "metadata": {},
     "output_type": "display_data"
    }
   ],
   "source": [
    "import matplotlib.pyplot as plt\n",
    "import matplotlib as mpl\n",
    "mpl.style.use('seaborn')\n",
    "plt.plot(epochs_, Py_times, '-o', label='Python')\n",
    "plt.plot(epochs_, R_times, '-o',label='R' )\n",
    "plt.title('Epochs vs Training Time')\n",
    "plt.ylabel('Time (s)')\n",
    "plt.xlabel('Epochs')\n",
    "plt.legend()\n",
    "plt.show()"
   ]
  },
  {
   "cell_type": "code",
   "execution_count": 77,
   "metadata": {},
   "outputs": [
    {
     "data": {
      "image/png": "[encoded data removed]",
      "text/plain": [
       "<Figure size 432x288 with 1 Axes>"
      ]
     },
     "metadata": {
      "needs_background": "light"
     },
     "output_type": "display_data"
    },
    {
     "data": {
      "image/png": "[encoded data removed]",
      "text/plain": [
       "<Figure size 432x288 with 1 Axes>"
      ]
     },
     "metadata": {
      "needs_background": "light"
     },
     "output_type": "display_data"
    }
   ],
   "source": [
    "# Plot training & validation loss values\n",
    "plt.plot(history2.history['loss'])\n",
    "plt.plot(history2.history['val_loss'])\n",
    "plt.title('Model loss')\n",
    "plt.ylabel('Loss')\n",
    "plt.xlabel('Epoch')\n",
    "plt.legend(['Train', 'Val'], loc='upper left')\n",
    "plt.show()\n",
    "\n",
    "\n",
    "\n",
    "plt.plot(history2.history['accuracy'])\n",
    "plt.plot(history2.history['val_accuracy'])\n",
    "plt.title('Model accuracy')\n",
    "plt.ylabel('Accuracy')\n",
    "plt.xlabel('Epochs')\n",
    "plt.legend(['Train', 'Val'], loc='upper left')\n",
    "plt.show()\n",
    "\n"
   ]
  },
  {
   "cell_type": "code",
   "execution_count": null,
   "metadata": {},
   "outputs": [],
   "source": []
  },
  {
   "cell_type": "code",
   "execution_count": null,
   "metadata": {},
   "outputs": [],
   "source": []
  }
 ],
 "metadata": {
  "kernelspec": {
   "display_name": "Python 3",
   "language": "python",
   "name": "python3"
  },
  "language_info": {
   "codemirror_mode": {
    "name": "ipython",
    "version": 3
   },
   "file_extension": ".py",
   "mimetype": "text/x-python",
   "name": "python",
   "nbconvert_exporter": "python",
   "pygments_lexer": "ipython3",
   "version": "3.7.3"
  }
 },
 "nbformat": 4,
 "nbformat_minor": 2
}
