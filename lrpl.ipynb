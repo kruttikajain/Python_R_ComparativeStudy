{
 "cells": [
  {
   "cell_type": "code",
   "execution_count": 89,
   "metadata": {},
   "outputs": [],
   "source": [
    "import numpy as np\n",
    "import matplotlib.pyplot as plt\n",
    "import pandas as pd\n",
    "from scipy.optimize import fmin_tnc"
   ]
  },
  {
   "cell_type": "code",
   "execution_count": 90,
   "metadata": {},
   "outputs": [],
   "source": [
    "def load_data(path, header):\n",
    "    marks_df = pd.read_csv(path, header=header)\n",
    "    return marks_df\n"
   ]
  },
  {
   "cell_type": "code",
   "execution_count": 95,
   "metadata": {},
   "outputs": [],
   "source": [
    "if __name__ == \"__main__\":\n",
    "    \n",
    "    csvdata = load_data(\"/Users/kruttikajain/Documents/pima-indians-diabetes.csv\", None)\n",
    "    Data_X = csvdata.iloc[:, :-1]\n",
    "\n",
    "    Data_y = csvdata.iloc[:, -1]\n",
    "\n",
    "   "
   ]
  },
  {
   "cell_type": "code",
   "execution_count": 96,
   "metadata": {},
   "outputs": [
    {
     "data": {
      "text/plain": [
       "array([[0.],\n",
       "       [0.],\n",
       "       [0.],\n",
       "       [0.],\n",
       "       [0.],\n",
       "       [0.],\n",
       "       [0.],\n",
       "       [0.],\n",
       "       [0.]])"
      ]
     },
     "execution_count": 96,
     "metadata": {},
     "output_type": "execute_result"
    }
   ],
   "source": [
    "Data_X = np.c_[np.ones((Data_X.shape[0], 1)), Data_X]\n",
    "Data_y = Data_y[:, np.newaxis]\n",
    "theta = np.zeros((Data_X.shape[1], 1))\n",
    "theta"
   ]
  },
  {
   "cell_type": "code",
   "execution_count": 98,
   "metadata": {},
   "outputs": [],
   "source": [
    "def sigmoid_func(z):\n",
    "    return 1 / (1 + np.exp(-z))\n",
    "\n",
    "def input_func(theta, z):\n",
    "    return np.dot(z, theta)\n",
    "\n",
    "def prob(theta, z):\n",
    "    return sigmoid(net_input(theta, z))"
   ]
  },
  {
   "cell_type": "code",
   "execution_count": 99,
   "metadata": {},
   "outputs": [],
   "source": [
    "def cost_func(theta, datax, datay):\n",
    "    a = datax.shape[0]\n",
    "    total_cost = -(1 / a) * np.sum(\n",
    "        datay * np.log(probability(theta, datax)) + (1 - datay) * np.log(\n",
    "            1 - prob(theta, datax)))\n",
    "    return total_cost\n",
    "\n",
    "def gradient(theta, datax, datay):\n",
    "    a = datax.shape[0]\n",
    "    return (1 / a) * np.dot(datax.T, sigmoid_func(input_func(theta,   datax)) - datay)"
   ]
  },
  {
   "cell_type": "code",
   "execution_count": 100,
   "metadata": {},
   "outputs": [],
   "source": [
    "def fit_data(datax, datay, theta):\n",
    "    optimize_weights = fmin_tnc(func=cost_function, x0=theta,\n",
    "                  fprime=gradient,args=(datax, datay.flatten()))\n",
    "    return optimize_weights[0]\n"
   ]
  },
  {
   "cell_type": "code",
   "execution_count": 101,
   "metadata": {},
   "outputs": [],
   "source": [
    "import time"
   ]
  },
  {
   "cell_type": "code",
   "execution_count": 102,
   "metadata": {},
   "outputs": [
    {
     "data": {
      "text/plain": [
       "0.1068580150604248"
      ]
     },
     "execution_count": 102,
     "metadata": {},
     "output_type": "execute_result"
    }
   ],
   "source": [
    "#theta = np.zeros((X.shape[1], 1))\n",
    "tym=time.time()\n",
    "parameters = fit(X, y, theta)\n",
    "time.time() - tym"
   ]
  },
  {
   "cell_type": "code",
   "execution_count": 107,
   "metadata": {},
   "outputs": [],
   "source": [
    "def predict(z):\n",
    "    theta = parameters[:, np.newaxis]\n",
    "    return prob(theta, z)\n"
   ]
  },
  {
   "cell_type": "code",
   "execution_count": 108,
   "metadata": {},
   "outputs": [
    {
     "data": {
      "text/plain": [
       "78.25520833333334"
      ]
     },
     "execution_count": 108,
     "metadata": {},
     "output_type": "execute_result"
    }
   ],
   "source": [
    "def accuracy( x, y_real, probab_threshold=0.5):\n",
    "    y_pred = (predict(x) >= \n",
    "                         probab_threshold).astype(int)\n",
    "    y_pred= y_pred.flatten()\n",
    "    accuracy = np.mean(y_pred == y_real)\n",
    "    return accuracy * 100\n",
    "accuracy(Data_X, Data_y.flatten())"
   ]
  },
  {
   "cell_type": "markdown",
   "metadata": {},
   "source": [
    "# In Built Models"
   ]
  },
  {
   "cell_type": "code",
   "execution_count": 109,
   "metadata": {},
   "outputs": [],
   "source": [
    "data_df = pd.read_csv(\"/Users/kruttikajain/Documents/pima-indians-diabetes.csv\")\n",
    "pimadata=data_df.values"
   ]
  },
  {
   "cell_type": "code",
   "execution_count": 110,
   "metadata": {},
   "outputs": [],
   "source": [
    "X=pimadata[:,0:8]\n",
    "Y=pimadata[:,8]\n",
    "from sklearn.model_selection import train_test_split\n",
    "X_train, X_test, y_train, y_test = train_test_split(X, Y, test_size=0.33, random_state=42)"
   ]
  },
  {
   "cell_type": "code",
   "execution_count": 111,
   "metadata": {},
   "outputs": [
    {
     "data": {
      "text/plain": [
       "0.17428898811340332"
      ]
     },
     "execution_count": 111,
     "metadata": {},
     "output_type": "execute_result"
    }
   ],
   "source": [
    "from sklearn.linear_model import LogisticRegression\n",
    "new_t=time.time()\n",
    "clf = LogisticRegression(random_state=0, solver='liblinear').fit(X_train, y_train)\n",
    "time.time()-new_t"
   ]
  },
  {
   "cell_type": "code",
   "execution_count": 112,
   "metadata": {},
   "outputs": [],
   "source": [
    "y_pred=clf.predict(X_test)"
   ]
  },
  {
   "cell_type": "code",
   "execution_count": 113,
   "metadata": {},
   "outputs": [
    {
     "data": {
      "text/plain": [
       "0.7874015748031497"
      ]
     },
     "execution_count": 113,
     "metadata": {},
     "output_type": "execute_result"
    }
   ],
   "source": [
    "from sklearn.metrics import accuracy_score\n",
    "accuracy_score(y_test, y_pred)"
   ]
  },
  {
   "cell_type": "code",
   "execution_count": 114,
   "metadata": {},
   "outputs": [],
   "source": [
    "# Time to Fit to LR from scratch Python : 0.03143596649169922\n",
    "# Time to Fit to LR in built Python: 0.013120889663696289\n",
    "# Time to fit to LR from scratch R: 0.103   0.030   0.179  \n",
    "#Time to Fit LR in built R: 0.041   0.044   0.139 \n",
    "   \n",
    "\n"
   ]
  },
  {
   "cell_type": "code",
   "execution_count": 115,
   "metadata": {},
   "outputs": [
    {
     "data": {
      "text/plain": [
       "0.018815994262695312"
      ]
     },
     "execution_count": 115,
     "metadata": {},
     "output_type": "execute_result"
    }
   ],
   "source": [
    "#Naive bayes\n",
    "from sklearn.naive_bayes import GaussianNB\n",
    "clf2=GaussianNB()\n",
    "nbt=time.time()\n",
    "ypred2=clf2.fit(X_train, y_train).predict(X_test)\n",
    "time.time()-nbt"
   ]
  },
  {
   "cell_type": "code",
   "execution_count": 116,
   "metadata": {},
   "outputs": [
    {
     "data": {
      "text/plain": [
       "0.7244094488188977"
      ]
     },
     "execution_count": 116,
     "metadata": {},
     "output_type": "execute_result"
    }
   ],
   "source": [
    "accuracy_score(y_test, ypred2)"
   ]
  },
  {
   "cell_type": "code",
   "execution_count": null,
   "metadata": {},
   "outputs": [],
   "source": [
    "#Time to fit NB Python: 0.004974842071533203\n",
    "# Time to fit NB R: 0.034   0.029   0.121 "
   ]
  },
  {
   "cell_type": "code",
   "execution_count": null,
   "metadata": {},
   "outputs": [],
   "source": []
  }
 ],
 "metadata": {
  "kernelspec": {
   "display_name": "Python 3",
   "language": "python",
   "name": "python3"
  },
  "language_info": {
   "codemirror_mode": {
    "name": "ipython",
    "version": 3
   },
   "file_extension": ".py",
   "mimetype": "text/x-python",
   "name": "python",
   "nbconvert_exporter": "python",
   "pygments_lexer": "ipython3",
   "version": "3.7.3"
  }
 },
 "nbformat": 4,
 "nbformat_minor": 2
}
